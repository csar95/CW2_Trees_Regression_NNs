{
 "cells": [
  {
   "cell_type": "code",
   "execution_count": 38,
   "metadata": {},
   "outputs": [],
   "source": [
    "training_dataSet = pd.read_csv('DecisionTrees/src/main/resources/trainingData_top10.csv')\n",
    "testing_dataSet = pd.read_csv('DecisionTrees/src/main/resources/testingData_top10.csv')\n",
    "\n",
    "training_dataSet_4000 = pd.read_csv('DecisionTrees/src/main/resources/trainingData_top10_4000.csv')\n",
    "testing_dataSet_4000 = pd.read_csv('DecisionTrees/src/main/resources/testingData_top10_4000.csv')\n",
    "\n",
    "training_dataSet_9000 = pd.read_csv('DecisionTrees/src/main/resources/trainingData_top10_9000.csv')\n",
    "testing_dataSet_9000 = pd.read_csv('DecisionTrees/src/main/resources/testingData_top10_9000.csv')\n",
    "\n",
    "training_dataSet['label'] = training_dataSet['label'].map({'zero': 0, 'one': 1, 'two': 2, 'three': 3, 'four': 4, 'five': 5, 'six': 6, 'seven': 7, 'eight': 8, 'nine': 9})\n",
    "testing_dataSet['label'] = testing_dataSet['label'].map({'zero': 0, 'one': 1, 'two': 2, 'three': 3, 'four': 4, 'five': 5, 'six': 6, 'seven': 7, 'eight': 8, 'nine': 9})"
   ]
  },
  {
   "cell_type": "code",
   "execution_count": 39,
   "metadata": {},
   "outputs": [],
   "source": [
    "from sklearn.linear_model import LogisticRegression\n",
    "from sklearn.metrics import confusion_matrix, classification_report"
   ]
  },
  {
   "cell_type": "code",
   "execution_count": 61,
   "metadata": {},
   "outputs": [
    {
     "name": "stdout",
     "output_type": "stream",
     "text": [
      "[4 0 1 6 1 5 6 4 4 0]\n",
      "0.7817745803357314\n",
      "[[263 133   6   9   2   2  14   0  14   7]\n",
      " [106 439   6  23  11  18  15   2   6   4]\n",
      " [ 14  39  81   3   4   0   7   1   1   0]\n",
      " [  4  10   0 363  30   1   1   2   4   5]\n",
      " [  3   5   2  28 589  28   2  12  19   2]\n",
      " [  5   9   2   4  54 636   5   0   5   0]\n",
      " [ 17  21   1   0   0   0 224   0   3   4]\n",
      " [  0   0   0   2   0   0   0  58   0   0]\n",
      " [ 11  22  11  22  30  23   2   4 554  11]\n",
      " [  1  14   0   0   0   1   6   2  13  53]]\n"
     ]
    },
    {
     "name": "stderr",
     "output_type": "stream",
     "text": [
      "/Library/Frameworks/Python.framework/Versions/3.7/lib/python3.7/site-packages/sklearn/linear_model/logistic.py:947: ConvergenceWarning: lbfgs failed to converge. Increase the number of iterations.\n",
      "  \"of iterations.\", ConvergenceWarning)\n"
     ]
    }
   ],
   "source": [
    "model = LogisticRegression(solver='lbfgs', multi_class='multinomial')\n",
    "y_train = training_dataSet['label']\n",
    "y_test = testing_dataSet['label']\n",
    "X_train = training_dataSet.drop(\"label\", axis=1)\n",
    "X_test = testing_dataSet.drop(\"label\", axis=1)\n",
    "y_pred = model.fit(X_train, y_train).predict(X_test)\n",
    "print(y_pred[:10])\n",
    "print(model.score(X_test, y_test))\n",
    "print(confusion_matrix(y_test, y_pred))"
   ]
  },
  {
   "cell_type": "code",
   "execution_count": 62,
   "metadata": {},
   "outputs": [
    {
     "name": "stdout",
     "output_type": "stream",
     "text": [
      "[4, 1, 2, 5, 1, 4, 4, 4, 4, 2]\n",
      "0.510147152356857\n",
      "[[  0   0   0   0   0   0   0   0   0   0   0   0   0]\n",
      " [  0   0   0   0   0   0   0   0   0   0   0   0   0]\n",
      " [  0   7  42 109 120  88  40  28  15   1   0   0   0]\n",
      " [  3  12  72 155 189 107  59  26   6   1   0   0   0]\n",
      " [  0   0   5  20  50  46  18   7   4   0   0   0   0]\n",
      " [  0   1   0  16  80 157 112  50   1   3   0   0   0]\n",
      " [  0   0   0   4  22 106 261 187  81  26   3   0   0]\n",
      " [  0   0   2  10  31 114 236 217  89  18   2   1   0]\n",
      " [  0   0   2   2  31  63 114  48   7   2   1   0   0]\n",
      " [  0   0   0   0   0   0   0   4  17  27   8   2   2]\n",
      " [  0   0   0   1   8  25  51  90 151 230 121  13   0]\n",
      " [  0   0   0   0   0   2  12  26  21  20   9   0   0]\n",
      " [  0   0   0   0   0   0   0   0   0   0   0   0   0]]\n"
     ]
    }
   ],
   "source": [
    "from sklearn.linear_model import LinearRegression\n",
    "\n",
    "model_linear = LinearRegression()\n",
    "y_pred_linear = model_linear.fit(X_train, y_train).predict(X_test)\n",
    "y_pred_linear = [int(round(y)) for y in y_pred_linear]\n",
    "print(y_pred_linear[:10])\n",
    "print(model_linear.score(X_test, y_test))\n",
    "print(confusion_matrix(y_test, y_pred_linear))"
   ]
  },
  {
   "cell_type": "code",
   "execution_count": null,
   "metadata": {},
   "outputs": [],
   "source": [
    "from sklearn.model_selection import cross_val_score\n",
    "\n",
    "model = LogisticRegression(solver='lbfgs', multi_class='multinomial')\n",
    "score = cross_val_score(model, X, y, cv=10)"
   ]
  }
 ],
 "metadata": {
  "kernelspec": {
   "display_name": "Python 3",
   "language": "python",
   "name": "python3"
  },
  "language_info": {
   "codemirror_mode": {
    "name": "ipython",
    "version": 3
   },
   "file_extension": ".py",
   "mimetype": "text/x-python",
   "name": "python",
   "nbconvert_exporter": "python",
   "pygments_lexer": "ipython3",
   "version": "3.7.4"
  }
 },
 "nbformat": 4,
 "nbformat_minor": 2
}
