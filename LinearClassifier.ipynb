{
 "cells": [
  {
   "cell_type": "code",
   "execution_count": 1,
   "metadata": {},
   "outputs": [],
   "source": [
    "import pandas as pd\n",
    "import warnings; warnings.simplefilter('ignore')\n",
    "\n",
    "training_dataSet = pd.read_csv('DecisionTrees/src/main/resources/trainingData_top10.csv')\n",
    "testing_dataSet = pd.read_csv('DecisionTrees/src/main/resources/testingData_top10.csv')\n",
    "\n",
    "training_dataSet_4000 = pd.read_csv('DecisionTrees/src/main/resources/trainingData_top10_4000.csv')\n",
    "testing_dataSet_4000 = pd.read_csv('DecisionTrees/src/main/resources/testingData_top10_4000.csv')\n",
    "\n",
    "training_dataSet_9000 = pd.read_csv('DecisionTrees/src/main/resources/trainingData_top10_9000.csv')\n",
    "testing_dataSet_9000 = pd.read_csv('DecisionTrees/src/main/resources/testingData_top10_9000.csv')\n",
    "\n",
    "training_dataSet['label'] = training_dataSet['label'].map({'zero': 0, 'one': 1, 'two': 2, 'three': 3, 'four': 4, 'five': 5, 'six': 6, 'seven': 7, 'eight': 8, 'nine': 9})\n",
    "testing_dataSet['label'] = testing_dataSet['label'].map({'zero': 0, 'one': 1, 'two': 2, 'three': 3, 'four': 4, 'five': 5, 'six': 6, 'seven': 7, 'eight': 8, 'nine': 9})"
   ]
  },
  {
   "cell_type": "code",
   "execution_count": 2,
   "metadata": {},
   "outputs": [],
   "source": [
    "y_train = training_dataSet['label']\n",
    "y_test = testing_dataSet['label']\n",
    "X_train = training_dataSet.drop(\"label\", axis=1)\n",
    "X_test = testing_dataSet.drop(\"label\", axis=1)"
   ]
  },
  {
   "cell_type": "code",
   "execution_count": 3,
   "metadata": {},
   "outputs": [],
   "source": [
    "from sklearn.metrics import confusion_matrix, classification_report, roc_curve, auc"
   ]
  },
  {
   "cell_type": "code",
   "execution_count": 4,
   "metadata": {},
   "outputs": [
    {
     "name": "stdout",
     "output_type": "stream",
     "text": [
      "[4 0 1 6 1 5 6 4 4 0]\n",
      "0.7817745803357314\n",
      "[[263 133   6   9   2   2  14   0  14   7]\n",
      " [106 439   6  23  11  18  15   2   6   4]\n",
      " [ 14  39  81   3   4   0   7   1   1   0]\n",
      " [  4  10   0 363  30   1   1   2   4   5]\n",
      " [  3   5   2  28 589  28   2  12  19   2]\n",
      " [  5   9   2   4  54 636   5   0   5   0]\n",
      " [ 17  21   1   0   0   0 224   0   3   4]\n",
      " [  0   0   0   2   0   0   0  58   0   0]\n",
      " [ 11  22  11  22  30  23   2   4 554  11]\n",
      " [  1  14   0   0   0   1   6   2  13  53]]\n",
      "              precision    recall  f1-score   support\n",
      "\n",
      "           0       0.62      0.58      0.60       450\n",
      "           1       0.63      0.70      0.66       630\n",
      "           2       0.74      0.54      0.63       150\n",
      "           3       0.80      0.86      0.83       420\n",
      "           4       0.82      0.85      0.84       690\n",
      "           5       0.90      0.88      0.89       720\n",
      "           6       0.81      0.83      0.82       270\n",
      "           7       0.72      0.97      0.82        60\n",
      "           8       0.89      0.80      0.85       690\n",
      "           9       0.62      0.59      0.60        90\n",
      "\n",
      "    accuracy                           0.78      4170\n",
      "   macro avg       0.76      0.76      0.75      4170\n",
      "weighted avg       0.78      0.78      0.78      4170\n",
      "\n"
     ]
    }
   ],
   "source": [
    "# Using training and testing data sets\n",
    "\n",
    "from sklearn.linear_model import LogisticRegression\n",
    "\n",
    "model_logistic = LogisticRegression(solver='lbfgs', multi_class='multinomial')\n",
    "y_pred_logistic = model_logistic.fit(X_train, y_train).predict(X_test)\n",
    "\n",
    "print(y_pred_logistic[:10])\n",
    "print(model_logistic.score(X_test, y_test))\n",
    "print(confusion_matrix(y_test, y_pred_logistic))\n",
    "print(classification_report(y_test, y_pred_logistic))\n",
    "\n",
    "# fpr, tpr, _ = roc_curve(y_test, y_pred_logistic)\n",
    "# roc_area = auc(fpr, tpr)\n",
    "\n",
    "# print(fpr)\n",
    "# print(tpr)\n",
    "# print(roc_area)"
   ]
  },
  {
   "cell_type": "code",
   "execution_count": 11,
   "metadata": {},
   "outputs": [
    {
     "data": {
      "text/plain": [
       "{0: 0.8106427718040621,\n",
       " 1: 0.8408743610438525,\n",
       " 2: 0.9159668325041459,\n",
       " 3: 0.9208952380952381,\n",
       " 4: 0.9825249875062468,\n",
       " 5: 0.9791590177133654,\n",
       " 6: 0.9573295346628681,\n",
       " 7: 0.9972587185725872,\n",
       " 8: 0.9630568049308679,\n",
       " 9: 0.9809858387799565,\n",
       " 'micro': 0.9516977113752643}"
      ]
     },
     "execution_count": 11,
     "metadata": {},
     "output_type": "execute_result"
    }
   ],
   "source": [
    "from sklearn.preprocessing import label_binarize\n",
    "from sklearn.multiclass import OneVsRestClassifier\n",
    "\n",
    "\n",
    "y_trn = label_binarize(y_train, classes=[0,1,2,3,4,5,6,7,8,9])\n",
    "y_tst = label_binarize(y_test, classes=[0,1,2,3,4,5,6,7,8,9])\n",
    "\n",
    "classifier = OneVsRestClassifier(model_logistic)\n",
    "y_score = classifier.fit(X_train, y_trn).decision_function(X_test)\n",
    "\n",
    "# Compute ROC curve and ROC area for each class\n",
    "fpr = dict()\n",
    "tpr = dict()\n",
    "roc_auc = dict()\n",
    "for i in range(10):\n",
    "    fpr[i], tpr[i], _ = roc_curve(y_tst[:, i], y_score[:, i])\n",
    "    roc_auc[i] = auc(fpr[i], tpr[i])\n",
    "\n",
    "# Compute micro-average ROC curve and ROC area\n",
    "fpr[\"micro\"], tpr[\"micro\"], _ = roc_curve(y_tst.ravel(), y_score.ravel())\n",
    "roc_auc[\"micro\"] = auc(fpr[\"micro\"], tpr[\"micro\"])\n",
    "\n",
    "roc_auc"
   ]
  },
  {
   "cell_type": "code",
   "execution_count": 12,
   "metadata": {},
   "outputs": [
    {
     "name": "stdout",
     "output_type": "stream",
     "text": [
      "0.9348694105613191\n"
     ]
    }
   ],
   "source": [
    "aux = [roc_auc[i] for i in range(10)]\n",
    "print(sum(aux)/10)"
   ]
  },
  {
   "cell_type": "code",
   "execution_count": 13,
   "metadata": {},
   "outputs": [
    {
     "data": {
      "image/png": "[encoded data removed]",
      "text/plain": [
       "<Figure size 432x288 with 1 Axes>"
      ]
     },
     "metadata": {
      "needs_background": "light"
     },
     "output_type": "display_data"
    }
   ],
   "source": [
    "import matplotlib.pyplot as plt\n",
    "\n",
    "plt.figure()\n",
    "lw = 1\n",
    "label = 1\n",
    "plt.plot(fpr[label], tpr[label], color='darkorange', lw=lw, label='ROC curve (area = %0.2f)' % roc_auc[label])\n",
    "plt.plot([0, 1], [0, 1], color='navy', lw=lw, linestyle='--')\n",
    "plt.xlim([0.0, 1.0])\n",
    "plt.ylim([0.0, 1.05])\n",
    "plt.xlabel('False Positive Rate')\n",
    "plt.ylabel('True Positive Rate')\n",
    "plt.title('Receiver operating characteristic example')\n",
    "plt.legend(loc=\"lower right\")\n",
    "plt.show()"
   ]
  },
  {
   "cell_type": "code",
   "execution_count": 8,
   "metadata": {},
   "outputs": [
    {
     "name": "stdout",
     "output_type": "stream",
     "text": [
      "[4, 1, 2, 5, 1, 4, 4, 4, 4, 2]\n",
      "0.510147152356857\n",
      "[[  0   0   0   0   0   0   0   0   0   0   0   0   0]\n",
      " [  0   0   0   0   0   0   0   0   0   0   0   0   0]\n",
      " [  0   7  42 109 120  88  40  28  15   1   0   0   0]\n",
      " [  3  12  72 155 189 107  59  26   6   1   0   0   0]\n",
      " [  0   0   5  20  50  46  18   7   4   0   0   0   0]\n",
      " [  0   1   0  16  80 157 112  50   1   3   0   0   0]\n",
      " [  0   0   0   4  22 106 261 187  81  26   3   0   0]\n",
      " [  0   0   2  10  31 114 236 217  89  18   2   1   0]\n",
      " [  0   0   2   2  31  63 114  48   7   2   1   0   0]\n",
      " [  0   0   0   0   0   0   0   4  17  27   8   2   2]\n",
      " [  0   0   0   1   8  25  51  90 151 230 121  13   0]\n",
      " [  0   0   0   0   0   2  12  26  21  20   9   0   0]\n",
      " [  0   0   0   0   0   0   0   0   0   0   0   0   0]]\n",
      "              precision    recall  f1-score   support\n",
      "\n",
      "          -2       0.00      0.00      0.00         0\n",
      "          -1       0.00      0.00      0.00         0\n",
      "           0       0.34      0.09      0.15       450\n",
      "           1       0.49      0.25      0.33       630\n",
      "           2       0.09      0.33      0.15       150\n",
      "           3       0.22      0.37      0.28       420\n",
      "           4       0.29      0.38      0.33       690\n",
      "           5       0.32      0.30      0.31       720\n",
      "           6       0.02      0.03      0.02       270\n",
      "           7       0.08      0.45      0.14        60\n",
      "           8       0.84      0.18      0.29       690\n",
      "           9       0.00      0.00      0.00        90\n",
      "          10       0.00      0.00      0.00         0\n",
      "\n",
      "    accuracy                           0.25      4170\n",
      "   macro avg       0.21      0.18      0.15      4170\n",
      "weighted avg       0.38      0.25      0.26      4170\n",
      "\n"
     ]
    }
   ],
   "source": [
    "from sklearn.linear_model import LinearRegression\n",
    "\n",
    "model_linear = LinearRegression()\n",
    "y_pred_linear = model_linear.fit(X_train, y_train).predict(X_test)\n",
    "y_pred_linear = [int(round(y)) for y in y_pred_linear]\n",
    "\n",
    "print(y_pred_linear[:10])\n",
    "print(model_linear.score(X_test, y_test))\n",
    "print(confusion_matrix(y_test, y_pred_linear))\n",
    "print(classification_report(y_test, y_pred_linear))"
   ]
  },
  {
   "cell_type": "code",
   "execution_count": 9,
   "metadata": {},
   "outputs": [
    {
     "name": "stdout",
     "output_type": "stream",
     "text": [
      "0.8303317535545023\n",
      "[[ 816  423   29   20   18    8   40    8   36   12]\n",
      " [ 296 1288   52   32   28   44   51    7   41   21]\n",
      " [  22   76  270    5    4    1   16    3   22    1]\n",
      " [   5   18    4 1211   39    6   11    2   22    2]\n",
      " [   8   30    4   36 1879   92    4    9   34    4]\n",
      " [  10   12    3   11   70 2018    4    5   21    6]\n",
      " [  24   46    1   10    1    2  687    1    5    3]\n",
      " [   6    3    3    1   11    4    5  186    6   15]\n",
      " [  14   26   20   32   29   11    9   14 1909    6]\n",
      " [   3    3    3    8    0    5   13    6   11  248]]\n",
      "              precision    recall  f1-score   support\n",
      "\n",
      "           0       0.68      0.58      0.62      1410\n",
      "           1       0.67      0.69      0.68      1860\n",
      "           2       0.69      0.64      0.67       420\n",
      "           3       0.89      0.92      0.90      1320\n",
      "           4       0.90      0.89      0.90      2100\n",
      "           5       0.92      0.93      0.93      2160\n",
      "           6       0.82      0.88      0.85       780\n",
      "           7       0.77      0.78      0.77       240\n",
      "           8       0.91      0.92      0.91      2070\n",
      "           9       0.78      0.83      0.80       300\n",
      "\n",
      "    accuracy                           0.83     12660\n",
      "   macro avg       0.80      0.81      0.80     12660\n",
      "weighted avg       0.83      0.83      0.83     12660\n",
      "\n"
     ]
    }
   ],
   "source": [
    "# 10-fold cross validation\n",
    "\n",
    "from sklearn.model_selection import cross_val_score, cross_val_predict\n",
    "\n",
    "score = cross_val_score(model_logistic, X_train, y_train, cv=10)\n",
    "avg_accuracy = sum(score) / len(score)\n",
    "print(avg_accuracy)\n",
    "y_pred_cross = cross_val_predict(model_logistic, X_train, y_train, cv=10)\n",
    "print(confusion_matrix(y_train, y_pred_cross))\n",
    "print(classification_report(y_train, y_pred_cross))"
   ]
  },
  {
   "cell_type": "code",
   "execution_count": null,
   "metadata": {},
   "outputs": [],
   "source": []
  }
 ],
 "metadata": {
  "kernelspec": {
   "display_name": "Python 3",
   "language": "python",
   "name": "python3"
  },
  "language_info": {
   "codemirror_mode": {
    "name": "ipython",
    "version": 3
   },
   "file_extension": ".py",
   "mimetype": "text/x-python",
   "name": "python",
   "nbconvert_exporter": "python",
   "pygments_lexer": "ipython3",
   "version": "3.7.4"
  }
 },
 "nbformat": 4,
 "nbformat_minor": 2
}
