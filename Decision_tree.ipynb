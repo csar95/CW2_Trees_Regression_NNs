{
 "cells": [
  {
   "cell_type": "code",
   "execution_count": 2,
   "metadata": {},
   "outputs": [],
   "source": [
    "import cv2\n",
    "import pandas as pd\n",
    "import numpy as np\n",
    "\n",
    "def preprocessing(val=True):\n",
    "    \n",
    "    data = pd.read_csv('data/x_train_gr_smpl.csv')\n",
    "    labels = pd.read_csv('data/y_train_smpl.csv')\n",
    "\n",
    "    if(val):\n",
    "        ## ---------------- Data preparation ---------------- ##\n",
    "        X_train = []\n",
    "        for i in range(data.shape[0]):\n",
    "            img = np.uint8(data.iloc[i])\n",
    "            edited = cv2.Canny(img, 10, 30)\n",
    "            edited = cv2.GaussianBlur(edited, (5, 5), 0)\n",
    "            X_train.append(edited.reshape((1,-1))[0])\n",
    "\n",
    "        data = pd.DataFrame(X_train)\n",
    "        ## -------------------------------------------------- ##\n",
    "\n",
    "    return data, labels"
   ]
  },
  {
   "cell_type": "code",
   "execution_count": null,
   "metadata": {},
   "outputs": [],
   "source": [
    "data, labels = preprocessing()\n",
    "data['label'] = labels\n",
    "data = data.sample(frac=1)\n",
    "\n",
    "data['label'] = data['label'].map({0: 'zero', 1: 'one', 2: 'two', 3: 'three', 4: 'four', 5: 'five', 6: 'six', 7: 'seven', 8: 'eight', 9: 'nine'})\n",
    "data.to_csv('DecisionTrees/src/main/resources/data_gr.csv', encoding='utf-8', sep=',', index=False)"
   ]
  },
  {
   "cell_type": "code",
   "execution_count": null,
   "metadata": {},
   "outputs": [],
   "source": [
    "# Generate reduced dataset to work with Weka\n",
    "\n",
    "top_2_array = set()\n",
    "top_5_array = set()\n",
    "top_10_array = set()\n",
    "\n",
    "data, _ = preprocessing()\n",
    "\n",
    "for i in range(10):\n",
    "    data = data.reindex(np.arange(data.shape[0]))\n",
    "    labels = pd.read_csv(f'data/y_train_smpl_{i}.csv')\n",
    "    data['label'] = labels\n",
    "    data = data.sample(frac=1)\n",
    "    \n",
    "    corr_label = data.drop(\"label\", axis=1).apply(lambda x: x.corr(data.label))\n",
    "    corr_label = [(index, abs(corr_val), i) for index, corr_val in enumerate(corr_label)]\n",
    "    corr_label = sorted(corr_label, key=lambda tup: tup[1], reverse=True)  # Order by correlation value\n",
    "            \n",
    "    for i, tup in enumerate(corr_label[:10]):\n",
    "        if i < 2:\n",
    "            top_2_array.add(tup[0])\n",
    "        if i < 5:\n",
    "            top_5_array.add(tup[0])\n",
    "        if i < 10:\n",
    "            top_10_array.add(tup[0])\n",
    "        \n",
    "data, labels = preprocessing()"
   ]
  },
  {
   "cell_type": "code",
   "execution_count": null,
   "metadata": {},
   "outputs": [],
   "source": [
    "data_top_10 = data[data.columns[list(top_10_array)]].copy(deep=True)\n",
    "data_top_10['label'] = labels\n",
    "data_top_10['label'] = data_top_10['label'].map({0: 'zero', 1: 'one', 2: 'two', 3: 'three', 4: 'four', 5: 'five', 6: 'six', 7: 'seven', 8: 'eight', 9: 'nine'})\n",
    "data_top_10 = data_top_10.sample(frac=1).reset_index(drop=True)\n",
    "data_top_10.to_csv('DecisionTrees/src/main/resources/data_top_10.csv', encoding='utf-8', sep=',', index=False)"
   ]
  }
 ],
 "metadata": {
  "kernelspec": {
   "display_name": "Python 3",
   "language": "python",
   "name": "python3"
  },
  "language_info": {
   "codemirror_mode": {
    "name": "ipython",
    "version": 3
   },
   "file_extension": ".py",
   "mimetype": "text/x-python",
   "name": "python",
   "nbconvert_exporter": "python",
   "pygments_lexer": "ipython3",
   "version": "3.7.4"
  }
 },
 "nbformat": 4,
 "nbformat_minor": 2
}
