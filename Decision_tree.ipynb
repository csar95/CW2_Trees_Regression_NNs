{
 "cells": [
  {
   "cell_type": "code",
   "execution_count": 1,
   "metadata": {},
   "outputs": [],
   "source": [
    "import cv2\n",
    "import pandas as pd\n",
    "import numpy as np\n",
    "\n",
    "def preprocessing(data, labels, val=True):\n",
    "    \n",
    "    data = pd.read_csv(data)\n",
    "    labels = pd.read_csv(labels)\n",
    "\n",
    "    if(val):\n",
    "        ## ---------------- Data preparation ---------------- ##\n",
    "        X_train = []\n",
    "        for i in range(data.shape[0]):\n",
    "            img = np.uint8(data.iloc[i])\n",
    "            edited = cv2.Canny(img, 10, 30)\n",
    "            edited = cv2.GaussianBlur(edited, (5, 5), 0)\n",
    "            X_train.append(edited.reshape((1,-1))[0])\n",
    "\n",
    "        data = pd.DataFrame(X_train)\n",
    "        ## -------------------------------------------------- ##\n",
    "\n",
    "    return data, labels"
   ]
  },
  {
   "cell_type": "code",
   "execution_count": 2,
   "metadata": {},
   "outputs": [],
   "source": [
    "# 1. Training set\n",
    "\n",
    "x = 'data/x_train_gr_smpl.csv'\n",
    "y = 'data/y_train_smpl.csv'\n",
    "\n",
    "top_10_array = set()\n",
    "\n",
    "data, _ = preprocessing(data=x, labels=y)\n",
    "\n",
    "for i in range(10):\n",
    "    data = data.reindex(np.arange(data.shape[0]))\n",
    "    labels = pd.read_csv(f'data/y_train_smpl_{i}.csv')\n",
    "    data['label'] = labels\n",
    "    data = data.sample(frac=1)\n",
    "    \n",
    "    corr_label = data.drop(\"label\", axis=1).apply(lambda x: x.corr(data.label))\n",
    "    corr_label = [(index, abs(corr_val), i) for index, corr_val in enumerate(corr_label)]\n",
    "    corr_label = sorted(corr_label, key=lambda tup: tup[1], reverse=True)  # Order by correlation value\n",
    "            \n",
    "    for i, tup in enumerate(corr_label[:10]):\n",
    "        top_10_array.add(tup[0])\n",
    "        \n",
    "data, labels = preprocessing(data=x, labels=y)\n",
    "\n",
    "trainingData_top10 = data[data.columns[list(top_10_array)]].copy(deep=True)\n",
    "trainingData_top10['label'] = labels\n",
    "trainingData_top10['label'] = trainingData_top10['label'].map({0: 'zero', 1: 'one', 2: 'two', 3: 'three', 4: 'four', 5: 'five', 6: 'six', 7: 'seven', 8: 'eight', 9: 'nine'})\n",
    "trainingData_top10 = trainingData_top10.sample(frac=1).reset_index(drop=True)\n",
    "trainingData_top10.to_csv('DecisionTrees/src/main/resources/trainingData_top10.csv', encoding='utf-8', sep=',', index=False)"
   ]
  },
  {
   "cell_type": "code",
   "execution_count": 3,
   "metadata": {},
   "outputs": [],
   "source": [
    "# 2. Testing set\n",
    "\n",
    "x = 'data/x_test_gr_smpl.csv'\n",
    "y = 'data/y_test_smpl.csv'\n",
    "\n",
    "data, labels = preprocessing(data=x, labels=y)\n",
    "\n",
    "testingData_top10 = data[data.columns[list(top_10_array)]].copy(deep=True)\n",
    "testingData_top10['label'] = labels\n",
    "testingData_top10['label'] = testingData_top10['label'].map({0: 'zero', 1: 'one', 2: 'two', 3: 'three', 4: 'four', 5: 'five', 6: 'six', 7: 'seven', 8: 'eight', 9: 'nine'})\n",
    "testingData_top10 = testingData_top10.sample(frac=1).reset_index(drop=True)\n",
    "testingData_top10.to_csv('DecisionTrees/src/main/resources/testingData_top10.csv', encoding='utf-8', sep=',', index=False)"
   ]
  },
  {
   "cell_type": "code",
   "execution_count": 4,
   "metadata": {},
   "outputs": [],
   "source": [
    "testingData_top10_4000 = testingData_top10.append(trainingData_top10.iloc[-4000:]).reset_index(drop=True)\n",
    "trainingData_top10_4000 = trainingData_top10.iloc[:-4000]\n",
    "testingData_top10_4000.to_csv('DecisionTrees/src/main/resources/testingData_top10_4000.csv', encoding='utf-8', sep=',', index=False)\n",
    "trainingData_top10_4000.to_csv('DecisionTrees/src/main/resources/trainingData_top10_4000.csv', encoding='utf-8', sep=',', index=False)"
   ]
  },
  {
   "cell_type": "code",
   "execution_count": 5,
   "metadata": {},
   "outputs": [],
   "source": [
    "testingData_top10_9000 = testingData_top10.append(trainingData_top10.iloc[-9000:]).reset_index(drop=True)\n",
    "trainingData_top10_9000 = trainingData_top10.iloc[:-9000]\n",
    "testingData_top10_9000.to_csv('DecisionTrees/src/main/resources/testingData_top10_9000.csv', encoding='utf-8', sep=',', index=False)\n",
    "trainingData_top10_9000.to_csv('DecisionTrees/src/main/resources/trainingData_top10_9000.csv', encoding='utf-8', sep=',', index=False)"
   ]
  },
  {
   "cell_type": "code",
   "execution_count": null,
   "metadata": {},
   "outputs": [],
   "source": []
  }
 ],
 "metadata": {
  "kernelspec": {
   "display_name": "Python 3",
   "language": "python",
   "name": "python3"
  },
  "language_info": {
   "codemirror_mode": {
    "name": "ipython",
    "version": 3
   },
   "file_extension": ".py",
   "mimetype": "text/x-python",
   "name": "python",
   "nbconvert_exporter": "python",
   "pygments_lexer": "ipython3",
   "version": "3.7.4"
  }
 },
 "nbformat": 4,
 "nbformat_minor": 2
}
