{
 "cells": [
  {
   "cell_type": "code",
   "execution_count": 1,
   "metadata": {},
   "outputs": [],
   "source": [
    "import cv2\n",
    "import pandas as pd\n",
    "import numpy as np\n",
    "\n",
    "def preprocessing(val=True):\n",
    "    \n",
    "    data = pd.read_csv('data/x_train_gr_smpl.csv')\n",
    "    labels = pd.read_csv('data/y_train_smpl.csv')\n",
    "\n",
    "    if(val):\n",
    "        ## ---------------- Data preparation ---------------- ##\n",
    "        X_train = []\n",
    "        for i in range(data.shape[0]):\n",
    "            img = np.uint8(data.iloc[i])\n",
    "            edited = cv2.Canny(img, 10, 30)\n",
    "            edited = cv2.GaussianBlur(edited, (5, 5), 0)\n",
    "            X_train.append(edited.reshape((1,-1))[0])\n",
    "\n",
    "        data = pd.DataFrame(X_train)\n",
    "        ## -------------------------------------------------- ##\n",
    "\n",
    "    return data, labels"
   ]
  },
  {
   "cell_type": "code",
   "execution_count": 2,
   "metadata": {},
   "outputs": [],
   "source": [
    "from sklearn.model_selection import train_test_split\n",
    "\n",
    "data, labels = preprocessing()\n",
    "data['label'] = labels\n",
    "\n",
    "X = data.iloc[:, :-1]\n",
    "y = data['label']\n",
    "\n",
    "X_train, X_test, y_train, y_test = train_test_split(X, y, test_size=0.33)"
   ]
  },
  {
   "cell_type": "code",
   "execution_count": 3,
   "metadata": {},
   "outputs": [],
   "source": [
    "from sklearn.neural_network import MLPClassifier"
   ]
  },
  {
   "cell_type": "code",
   "execution_count": 4,
   "metadata": {},
   "outputs": [
    {
     "data": {
      "text/plain": [
       "MLPClassifier(activation='relu', alpha=0.0001, batch_size='auto', beta_1=0.9,\n",
       "       beta_2=0.999, early_stopping=False, epsilon=1e-08,\n",
       "       hidden_layer_sizes=(100,), learning_rate='constant',\n",
       "       learning_rate_init=0.001, max_iter=200, momentum=0.9,\n",
       "       n_iter_no_change=10, nesterovs_momentum=True, power_t=0.5,\n",
       "       random_state=1, shuffle=True, solver='adam', tol=0.0001,\n",
       "       validation_fraction=0.1, verbose=False, warm_start=False)"
      ]
     },
     "execution_count": 4,
     "metadata": {},
     "output_type": "execute_result"
    }
   ],
   "source": [
    "clf = MLPClassifier()\n",
    "clf.fit(X_train, y_train)"
   ]
  },
  {
   "cell_type": "code",
   "execution_count": 5,
   "metadata": {},
   "outputs": [],
   "source": [
    "y_pred = clf.predict_proba(X_test)"
   ]
  },
  {
   "cell_type": "code",
   "execution_count": 6,
   "metadata": {},
   "outputs": [
    {
     "name": "stdout",
     "output_type": "stream",
     "text": [
      "[[8.90311927e-56 1.34036160e-11 1.37213934e-46 5.68902960e-55\n",
      "  1.85949946e-23 1.00000000e+00 1.71668725e-38 1.23120382e-42\n",
      "  7.46403739e-28 6.41744387e-55]\n",
      " [3.14743029e-73 7.99802153e-28 2.80675205e-38 1.00000000e+00\n",
      "  1.54191190e-15 8.65546611e-57 9.89917779e-62 4.90065107e-68\n",
      "  1.22790316e-39 9.53117764e-13]\n",
      " [9.96351105e-01 3.64889533e-03 8.73151298e-13 3.55507504e-20\n",
      "  1.42008869e-17 1.43454060e-12 4.32188540e-28 1.51896194e-21\n",
      "  2.38133922e-15 9.20557132e-26]\n",
      " [4.31974240e-85 1.37355899e-25 3.13721916e-84 3.67019416e-41\n",
      "  1.00000000e+00 4.43748173e-22 1.12008673e-78 6.69574910e-32\n",
      "  2.00763884e-40 3.00955642e-41]\n",
      " [2.56575364e-36 9.20056423e-40 2.90807068e-34 1.21710016e-69\n",
      "  5.55016237e-48 1.01673466e-39 5.24273373e-30 1.65146641e-54\n",
      "  2.65893913e-20 1.00000000e+00]\n",
      " [6.30093348e-54 5.62241321e-20 3.36199620e-29 9.99999981e-01\n",
      "  5.39515538e-12 1.49789084e-41 3.32465961e-45 4.10160611e-49\n",
      "  1.46268552e-30 1.92064579e-08]\n",
      " [2.47766919e-94 6.18508956e-32 2.21436132e-88 9.45329613e-44\n",
      "  1.00000000e+00 1.54758155e-27 9.61789421e-86 3.83730368e-39\n",
      "  1.25479666e-40 1.77134377e-48]\n",
      " [7.67008582e-61 1.96348195e-11 1.22186050e-68 5.84729410e-35\n",
      "  1.00000000e+00 6.09833664e-16 9.02830938e-76 2.57598324e-30\n",
      "  6.46086910e-35 1.19887171e-42]\n",
      " [1.84193954e-67 3.67374980e-26 1.42738307e-33 1.00000000e+00\n",
      "  1.18667114e-13 1.70767181e-53 1.23344122e-58 9.60404570e-66\n",
      "  4.44473074e-34 4.42697038e-14]\n",
      " [2.14175054e-12 7.41988548e-30 3.31611657e-19 1.77380158e-41\n",
      "  3.46365017e-36 1.32133923e-28 2.11149087e-24 2.20829566e-24\n",
      "  1.00000000e+00 6.25978748e-33]]\n"
     ]
    }
   ],
   "source": [
    "print(y_pred[:10])"
   ]
  },
  {
   "cell_type": "code",
   "execution_count": 8,
   "metadata": {},
   "outputs": [
    {
     "data": {
      "text/plain": [
       "0.8992340832934418"
      ]
     },
     "execution_count": 8,
     "metadata": {},
     "output_type": "execute_result"
    }
   ],
   "source": [
    "score = clf.score(X_test, y_test)\n",
    "score"
   ]
  },
  {
   "cell_type": "code",
   "execution_count": null,
   "metadata": {},
   "outputs": [],
   "source": []
  },
  {
   "cell_type": "code",
   "execution_count": null,
   "metadata": {},
   "outputs": [
    {
     "name": "stderr",
     "output_type": "stream",
     "text": [
      "C:\\ProgramData\\Anaconda3\\lib\\site-packages\\sklearn\\model_selection\\_split.py:2053: FutureWarning: You should specify a value for 'cv' instead of relying on the default value. The default value will change from 3 to 5 in version 0.22.\n",
      "  warnings.warn(CV_WARNING, FutureWarning)\n"
     ]
    }
   ],
   "source": [
    "from sklearn.model_selection import GridSearchCV\n",
    "\n",
    "clf = MLPClassifier()\n",
    "\n",
    "possible_parameters = {\n",
    "    'alpha': [0.0001, 0.00005],\n",
    "    'batch_size': [100, 50],\n",
    "    'learning_rate_init': [0.001, 0.0005],\n",
    "    'beta_1': [0.9, 0.99],\n",
    "    'beta_2': [0.999, 0.5],\n",
    "    'epsilon': [5e-9, 2e-9]\n",
    "}\n",
    "\n",
    "clf = GridSearchCV(clf, possible_parameters, n_jobs=-1)\n",
    "clf.fit(X_train, y_train)\n",
    "\n",
    "cv = clf.cv_results_\n",
    "tab = pd.DataFrame({\n",
    "    'mean_fit_time': cv['mean_fit_time'],\n",
    "    'mean_score_time': cv['mean_score_time'],\n",
    "    'mean_test_score': cv['mean_test_score'],\n",
    "    'mean_train_score': cv['mean_train_score'],\n",
    "    'param_alpha': cv['param_alpha'],\n",
    "    'param_batch_size': cv['param_batch_size'],\n",
    "    'param_learning_rate_init': cv['param_learning_rate_init'],\n",
    "    'rank_test_score': cv['rank_test_score'],\n",
    "    'param_beta_1': cv['param_beta_1'],\n",
    "    'param_epsilon': cv['param_epsilon']\n",
    "})\n",
    "\n",
    "tab.sort_values(['rank_test_score']).head(3)"
   ]
  }
 ],
 "metadata": {
  "kernelspec": {
   "display_name": "Python 3",
   "language": "python",
   "name": "python3"
  },
  "language_info": {
   "codemirror_mode": {
    "name": "ipython",
    "version": 3
   },
   "file_extension": ".py",
   "mimetype": "text/x-python",
   "name": "python",
   "nbconvert_exporter": "python",
   "pygments_lexer": "ipython3",
   "version": "3.7.1"
  }
 },
 "nbformat": 4,
 "nbformat_minor": 2
}
